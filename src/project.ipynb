{
 "cells": [
  {
   "cell_type": "markdown",
   "id": "412ddc7e",
   "metadata": {
    "execution": {
     "iopub.execute_input": "2022-02-28T15:34:09.444324Z",
     "iopub.status.busy": "2022-02-28T15:34:09.441785Z",
     "iopub.status.idle": "2022-02-28T15:34:10.302913Z",
     "shell.execute_reply": "2022-02-28T15:34:10.302209Z",
     "shell.execute_reply.started": "2022-02-28T15:34:09.444282Z"
    }
   },
   "source": []
  },
  {
   "cell_type": "code",
   "execution_count": 1,
   "id": "5a78c104-6d6f-48e6-b5ea-5880254f5cb1",
   "metadata": {},
   "outputs": [
    {
     "data": {
      "text/html": [
       "Current session configs: <tt>{'executorMemory': '8G', 'numExecutors': 2, 'executorCores': 3, 'conf': {'spark.dynamicAllocation.enabled': 'false'}, 'proxyUser': 'assumed-role_voclabs_user2784992_David_Cohen', 'kind': 'spark'}</tt><br>"
      ],
      "text/plain": [
       "<IPython.core.display.HTML object>"
      ]
     },
     "metadata": {},
     "output_type": "display_data"
    },
    {
     "data": {
      "text/html": [
       "No active sessions."
      ],
      "text/plain": [
       "<IPython.core.display.HTML object>"
      ]
     },
     "metadata": {},
     "output_type": "display_data"
    }
   ],
   "source": [
    "%%configure -f\n",
    "{\"executorMemory\":\"8G\", \"numExecutors\":2, \"executorCores\":3, \"conf\": {\"spark.dynamicAllocation.enabled\": \"false\"}}"
   ]
  },
  {
   "cell_type": "code",
   "execution_count": 15,
   "id": "6297e3f5-17d3-44ba-a06c-8b1acf0ca078",
   "metadata": {
    "tags": []
   },
   "outputs": [
    {
     "data": {
      "application/vnd.jupyter.widget-view+json": {
       "model_id": "85b1f84923ff4a61ba5269ba104eb546",
       "version_major": 2,
       "version_minor": 0
      },
      "text/plain": [
       "VBox()"
      ]
     },
     "metadata": {},
     "output_type": "display_data"
    },
    {
     "data": {
      "application/vnd.jupyter.widget-view+json": {
       "model_id": "",
       "version_major": 2,
       "version_minor": 0
      },
      "text/plain": [
       "FloatProgress(value=0.0, bar_style='info', description='Progress:', layout=Layout(height='25px', width='50%'),…"
      ]
     },
     "metadata": {},
     "output_type": "display_data"
    },
    {
     "name": "stdout",
     "output_type": "stream",
     "text": [
      "bucketname: String = unibo-bd2324-dcohen\n",
      "path_apps: String = s3a://unibo-bd2324-dcohen/datasets/project/App_ID_Info.csv\n",
      "path_players: String = s3a://unibo-bd2324-dcohen/datasets/project/Player_Summaries.csv\n",
      "path_friends: String = s3a://unibo-bd2324-dcohen/datasets/project/Friends.csv\n",
      "path_games_full: String = s3a://unibo-bd2324-dcohen/datasets/project/Games.csv\n",
      "path_games: String = s3a://unibo-bd2324-dcohen/datasets/project/Games20Percent.csv\n",
      "path_games_daily: String = s3a://unibo-bd2324-dcohen/datasets/project/Games_Daily.csv\n",
      "path_games_info: String = s3a://unibo-bd2324-dcohen/datasets/project/Games_Info.csv\n",
      "path_achievement: String = s3a://unibo-bd2324-dcohen/datasets/project/Achievement_Percentages.csv\n",
      "path_output_correlation: String = s3a://unibo-bd2324-dcohen/datasets/project/results/correlation\n",
      "path_output_most_achieved_app: String = s3a://unibo-bd2324-dcohen/datasets/project/results/most_achieved_app\n",
      "path_output_avg_playtime_release_year: String = s3a://unibo-bd2324-dcohen/datasets/project/results/avg_playtime_release_year\n",
      "res52: String = SPARK UI: Enable forwarding of port 20888 and connect to http://localhost:20888/proxy/application_1698416919632_0001/\n"
     ]
    }
   ],
   "source": [
    "val bucketname = \"unibo-bd2324-dcohen\"\n",
    "\n",
    "val path_apps = \"s3a://\"+bucketname+\"/datasets/project/App_ID_Info.csv\"\n",
    "val path_players = \"s3a://\"+bucketname+\"/datasets/project/Player_Summaries.csv\"\n",
    "val path_friends = \"s3a://\"+bucketname+\"/datasets/project/Friends.csv\"\n",
    "val path_games_full = \"s3a://\"+bucketname+\"/datasets/project/Games.csv\"\n",
    "val path_games = \"s3a://\"+bucketname+\"/datasets/project/Games20Percent.csv\"\n",
    "val path_games_daily = \"s3a://\"+bucketname+\"/datasets/project/Games_Daily.csv\"\n",
    "val path_games_info = \"s3a://\"+bucketname+\"/datasets/project/Games_Info.csv\"\n",
    "val path_achievement = \"s3a://\"+bucketname+\"/datasets/project/Achievement_Percentages.csv\"\n",
    "val path_output_correlation = \"s3a://\"+bucketname+\"/datasets/project/results/correlation\"\n",
    "val path_output_most_achieved_app = \"s3a://\"+bucketname+\"/datasets/project/results/most_achieved_app\"\n",
    "val path_output_avg_playtime_release_year = \"s3a://\"+bucketname+\"/datasets/project/results/avg_playtime_release_year\"\n",
    "\n",
    "\"SPARK UI: Enable forwarding of port 20888 and connect to http://localhost:20888/proxy/\" + sc.applicationId + \"/\""
   ]
  },
  {
   "cell_type": "code",
   "execution_count": 9,
   "id": "e643e27d-b710-43cb-bc3d-7bca65e93b15",
   "metadata": {
    "scrolled": true,
    "tags": []
   },
   "outputs": [
    {
     "data": {
      "application/vnd.jupyter.widget-view+json": {
       "model_id": "bea2d54e8ac04aee92e1ae81ca83c541",
       "version_major": 2,
       "version_minor": 0
      },
      "text/plain": [
       "VBox()"
      ]
     },
     "metadata": {},
     "output_type": "display_data"
    },
    {
     "data": {
      "application/vnd.jupyter.widget-view+json": {
       "model_id": "",
       "version_major": 2,
       "version_minor": 0
      },
      "text/plain": [
       "FloatProgress(value=0.0, bar_style='info', description='Progress:', layout=Layout(height='25px', width='50%'),…"
      ]
     },
     "metadata": {},
     "output_type": "display_data"
    },
    {
     "name": "stdout",
     "output_type": "stream",
     "text": [
      "import java.text.SimpleDateFormat\n",
      "import java.util.Calendar\n",
      "import org.apache.spark.sql.SaveMode\n",
      "import scala.util.{Try, Success, Failure}\n",
      "defined class App\n",
      "defined class PlayerSummary\n",
      "defined class GameInfo\n",
      "defined class Game\n",
      "defined class Friend\n",
      "defined class Achievement\n",
      "defined class AppValues\n",
      "defined class PlayerSummaryValues\n",
      "defined class GameInfoValues\n",
      "defined class GameValues\n",
      "defined class GameValuesWithAppKey\n",
      "defined class GameValuesWithSteamKey\n",
      "defined class FriendValues\n",
      "defined class AchievementValuesWithPlayerNameKey\n",
      "defined class AchievementValuesWithAppKey\n",
      "defined object SteamGamesParser\n"
     ]
    }
   ],
   "source": [
    "import java.text.SimpleDateFormat\n",
    "import java.util.Calendar\n",
    "import org.apache.spark.sql.SaveMode\n",
    "import scala.util.{Try, Success, Failure}\n",
    "\n",
    "case class App(appid: Long, title: String, typ: String, price: Double, releaseYear: Int, rating: Int, requiredAge: Int, isMultiplayer: Int)\n",
    "case class PlayerSummary(steamid: Long, personaname: String, lastlogoffYear: Int, realname: Option[String], primaryclanid: Long, timecreatedYear: Int, loccountrycode: Option[String], locstatecode: Option[String])\n",
    "case class GameInfo(appid: Long, developer: String, publisher: String, genre: String)\n",
    "case class Game(steamid: Long, appid: Long, playtimeTwoWeek: Int, playtimeForever: Int)\n",
    "case class Friend(steamidA: Long, steamidB: Long, friendSinceYear: Int)\n",
    "case class Achievement(appid: Long, playername: String, percentage: Float)\n",
    "\n",
    "case class AppValues(title: String, typ: String, price: Double, releaseYear: Int, rating: Int, requiredAge: Int, isMultiplayer: Int)\n",
    "case class PlayerSummaryValues(personaname: String, lastlogoffYear: Int, realname: Option[String], primaryclanid: Long, timecreatedYear: Int, loccountrycode: Option[String], locstatecode: Option[String])\n",
    "case class GameInfoValues(developer: String, publisher: String, genre: String)\n",
    "case class GameValues(playtimeTwoWeek: Int, playtimeForever: Int)\n",
    "case class GameValuesWithAppKey(appid: Long, playtimeTwoWeek: Int, playtimeForever: Int)\n",
    "case class GameValuesWithSteamKey(steamid: Long, playtimeTwoWeek: Int, playtimeForever: Int)\n",
    "case class FriendValues(friendSinceYear: Int)\n",
    "case class AchievementValuesWithPlayerNameKey(playername: String, percentage: Float)\n",
    "case class AchievementValuesWithAppKey(appid: Long, percentage: Float)\n",
    "\n",
    "object SteamGamesParser {\n",
    "\n",
    "  val commaRegex = \",(?=(?:[^\\\"]*\\\"[^\\\"]*\\\")*[^\\\"]*$)\"\n",
    "  val pipeRegex = \"\\\\|(?=(?:[^\\\"]*\\\"[^\\\"]*\\\")*[^\\\"]*$)\"\n",
    "  val quotes = \"\\\"\"\n",
    "\n",
    "    /** Convert from date string \"yyyy-MM-dd HH:mm:ss\" to year (Int) */\n",
    "    def yearFromTimestamp(timestamp: String): Int = {\n",
    "      val dateFormat = new SimpleDateFormat(\"yyyy-MM-dd HH:mm:ss\")\n",
    "      val date = dateFormat.parse(timestamp)\n",
    "      val cal = Calendar.getInstance()\n",
    "      cal.setTime(date)\n",
    "      cal.get(Calendar.YEAR)\n",
    "    }\n",
    "    \n",
    "\n",
    "\n",
    "    def cleanField(field: String): String = field.replace(quotes, \"\").trim\n",
    "\n",
    "    def safelyConvert[A](str: String)(conversion: String => A): Option[A] = {\n",
    "      Try(conversion(str)) match {\n",
    "        case Success(value) => Some(value)\n",
    "        case Failure(e) => \n",
    "          println(s\"Error converting value '$str': ${e.getMessage}\")\n",
    "          None\n",
    "      }\n",
    "    }\n",
    "\n",
    "    /** PARSING **/\n",
    "    \n",
    "    def parseAppLine(line: String): Option[App] = {\n",
    "      val fields = line.split(\",\").map(cleanField)\n",
    "\n",
    "      fields match {\n",
    "        case Array(\n",
    "                appid, \n",
    "                title, \n",
    "                typ, \n",
    "                price, \n",
    "                releaseDate, \n",
    "                rating, \n",
    "                requiredAge, \n",
    "                isMultiplayer) =>\n",
    "          for {\n",
    "            appidLong        <- safelyConvert(appid)(_.toLong)\n",
    "            priceDouble      <- safelyConvert(price)(_.toDouble)\n",
    "            releaseYear      <- safelyConvert(releaseDate)(yearFromTimestamp)\n",
    "            ratingInt        <- safelyConvert(rating)(_.toInt)\n",
    "            requiredAgeInt   <- safelyConvert(requiredAge)(_.toInt)\n",
    "            isMultiplayerInt <- safelyConvert(isMultiplayer)(_.toInt)\n",
    "          } yield App(\n",
    "            appidLong, \n",
    "            title, \n",
    "            typ, \n",
    "            priceDouble, \n",
    "            releaseYear, \n",
    "            ratingInt, \n",
    "            requiredAgeInt, \n",
    "            isMultiplayerInt\n",
    "        )\n",
    "        case _ => None\n",
    "      }\n",
    "    }\n",
    "    \n",
    "    def parsePlayerSummaryLine(line: String): Option[PlayerSummary] = {\n",
    "      val fields = line.split(\",\").map(cleanField)\n",
    "      fields match {\n",
    "        case Array(\n",
    "                steamid, \n",
    "                personaname, \n",
    "                profileurl, \n",
    "                avatar, \n",
    "                avatarmedium, \n",
    "                avatarfull, \n",
    "                personastate, \n",
    "                communityvisibilitystate, \n",
    "                profilestate, \n",
    "                lastlogoff, \n",
    "                commentpermission, \n",
    "                realname, \n",
    "                primaryclanid, \n",
    "                timecreated, \n",
    "                gameid, \n",
    "                gameserverip, \n",
    "                gameextrainfo, \n",
    "                cityid, \n",
    "                loccountrycode, \n",
    "                locstatecode, \n",
    "                loccityid,\n",
    "                dateretrieved) =>\n",
    "          for {\n",
    "            steamidLong        <- safelyConvert(steamid)(_.toLong)\n",
    "            primaryclanidLong  <- safelyConvert(primaryclanid)(_.toLong)\n",
    "            lastlogoffYear     <- safelyConvert(lastlogoff)(yearFromTimestamp)\n",
    "            timecreatedYear    <- safelyConvert(timecreated)(yearFromTimestamp)\n",
    "            loccityidInt       <- safelyConvert(loccityid)(_.toInt)\n",
    "          } yield PlayerSummary(\n",
    "            steamidLong, \n",
    "            personaname,\n",
    "            lastlogoffYear, \n",
    "            Option(realname).orElse(Some(\"Unknown\")), \n",
    "            primaryclanidLong, \n",
    "            timecreatedYear, \n",
    "            Option(loccountrycode).orElse(Some(\"Unknown\")), \n",
    "            Option(locstatecode).orElse(Some(\"Unknown\"))\n",
    "          )\n",
    "        case _ => None\n",
    "      }\n",
    "    }\n",
    "    \n",
    "    def parseGameInfoLine(line: String): Option[GameInfo] = {\n",
    "      val fields = line.split(\",\").map(cleanField)\n",
    "\n",
    "      fields match {\n",
    "        case Array(\n",
    "                appid, \n",
    "                developer, \n",
    "                publisher, \n",
    "                genre) =>\n",
    "          for {\n",
    "            appidLong  <- safelyConvert(appid)(_.toLong)\n",
    "          } yield GameInfo(\n",
    "            appidLong, \n",
    "            developer, \n",
    "            publisher, \n",
    "            genre\n",
    "        )\n",
    "        case _ => None\n",
    "      }\n",
    "    }\n",
    "\n",
    "    def parseGameLine(line: String): Option[Game] = {\n",
    "      val fields = line.split(\",\").map(cleanField)\n",
    "\n",
    "      fields match {\n",
    "        case Array(\n",
    "                steamid, \n",
    "                appid, \n",
    "                playtimeTwoWeek,\n",
    "                playtimeForever,\n",
    "                dateretrieved) =>\n",
    "          for {\n",
    "            steamidLong  <- safelyConvert(steamid)(_.toLong)\n",
    "            appidLong  <- safelyConvert(appid)(_.toLong)\n",
    "            playtimeTwoWeekInt  <- safelyConvert(playtimeTwoWeek)(_.toInt)\n",
    "            playtimeForeverInt  <- safelyConvert(playtimeForever)(_.toInt)\n",
    "          } yield Game(\n",
    "            steamidLong, \n",
    "            appidLong, \n",
    "            playtimeTwoWeekInt, \n",
    "            playtimeForeverInt\n",
    "        )\n",
    "        case _ => None\n",
    "      }\n",
    "    }\n",
    "    \n",
    "    def parseFriendLine(line: String): Option[Friend] = {\n",
    "      val fields = line.split(\",\",-1).map(cleanField) \n",
    "        fields match {\n",
    "          case Array(\n",
    "              steamid_a,\n",
    "              steamid_b,\n",
    "              relationship,\n",
    "              friendSince,\n",
    "              dataretrived,\n",
    "              lccTag) =>\n",
    "            for {\n",
    "              steamidALong     <- safelyConvert(steamid_a)(_.toLong)\n",
    "              steamidBLong     <- safelyConvert(steamid_b)(_.toLong)\n",
    "              friendSinceYear  <- safelyConvert(friendSince)(yearFromTimestamp)\n",
    "            } yield Friend(\n",
    "              steamidALong,\n",
    "              steamidBLong,\n",
    "              friendSinceYear\n",
    "          )\n",
    "          case _ => None\n",
    "        }\n",
    "    }\n",
    "    \n",
    "    def parseAchievementLine(line: String): Option[Achievement] = {\n",
    "      val fields = line.split(\",\").map(cleanField) \n",
    "        fields match {\n",
    "          case Array(\n",
    "              appid,\n",
    "              name,\n",
    "              percentage,\n",
    "              _*) =>\n",
    "            for {\n",
    "              appidLong           <- safelyConvert(appid)(_.toLong)\n",
    "              percentageFloat     <- safelyConvert(percentage)(_.toFloat)\n",
    "            } yield Achievement(\n",
    "              appidLong,\n",
    "              name,\n",
    "              percentageFloat\n",
    "          )\n",
    "          case _ => None\n",
    "        }\n",
    "    }\n",
    "}\n"
   ]
  },
  {
   "cell_type": "code",
   "execution_count": 4,
   "id": "40f4661a",
   "metadata": {
    "scrolled": true
   },
   "outputs": [
    {
     "data": {
      "application/vnd.jupyter.widget-view+json": {
       "model_id": "96ba1b26e58e4f1d9c7ef57460388efd",
       "version_major": 2,
       "version_minor": 0
      },
      "text/plain": [
       "VBox()"
      ]
     },
     "metadata": {},
     "output_type": "display_data"
    },
    {
     "data": {
      "application/vnd.jupyter.widget-view+json": {
       "model_id": "",
       "version_major": 2,
       "version_minor": 0
      },
      "text/plain": [
       "FloatProgress(value=0.0, bar_style='info', description='Progress:', layout=Layout(height='25px', width='50%'),…"
      ]
     },
     "metadata": {},
     "output_type": "display_data"
    },
    {
     "name": "stdout",
     "output_type": "stream",
     "text": [
      "import org.apache.spark.storage.StorageLevel\n",
      "import org.apache.spark.HashPartitioner\n",
      "partitioner: org.apache.spark.HashPartitioner = org.apache.spark.HashPartitioner@c\n",
      "apps: org.apache.spark.rdd.RDD[(Long, AppValues)] = MapPartitionsRDD[3] at map at <console>:33\n",
      "players: org.apache.spark.rdd.RDD[(Long, PlayerSummaryValues)] = ShuffledRDD[8] at partitionBy at <console>:36\n",
      "gameInfo: org.apache.spark.rdd.RDD[(Long, GameInfoValues)] = ShuffledRDD[13] at partitionBy at <console>:36\n",
      "gameSessions: org.apache.spark.rdd.RDD[Game] = MapPartitionsRDD[16] at flatMap at <console>:31\n",
      "gameSessionsWithSteamKey: org.apache.spark.rdd.RDD[(Long, GameValuesWithAppKey)] = ShuffledRDD[18] at partitionBy at <console>:34\n",
      "gameSessionsWithAppKey: org.apache.spark.rdd.RDD[(Long, GameValuesWithSteamKey)] = ShuffledRDD[20] at partitionBy at <console>:34\n",
      "friends: org.apache.spark.rdd.RDD[((Long, Long), FriendValues)] = ShuffledRDD[25] at partitionBy at <console>:36\n",
      "achievementsWithPlayerName: org.apache.spark.rdd.RDD[(String, AchievementValuesWithAppKey)] = ShuffledRDD[30] at partitionBy at <console>:36\n",
      "achievementsWithAppKey: org.apache.spark.rdd.RDD[(Long, AchievementValuesWithPlayerNameKey)] = ShuffledRDD[35] at partitionBy at <console>:36\n"
     ]
    }
   ],
   "source": [
    "import org.apache.spark.storage.StorageLevel\n",
    "import org.apache.spark.HashPartitioner\n",
    "\n",
    "val partitioner = new HashPartitioner(12)\n",
    "\n",
    "val apps = sc.textFile(path_apps).flatMap(SteamGamesParser.parseAppLine).map { app => \n",
    "  (app.appid, AppValues(app.title, app.typ, app.price, app.releaseYear, app.rating, app.requiredAge, app.isMultiplayer))\n",
    "}.cache()\n",
    "\n",
    "val players = sc.textFile(path_players).flatMap(SteamGamesParser.parsePlayerSummaryLine).map { player => \n",
    "  (player.steamid, PlayerSummaryValues(player.personaname, player.lastlogoffYear, player.realname, player.primaryclanid, player.timecreatedYear, player.loccountrycode, player.locstatecode))\n",
    "}.partitionBy(partitioner).cache()\n",
    "\n",
    "val gameInfo = sc.textFile(path_games_info).flatMap(SteamGamesParser.parseGameInfoLine).map { gameInfo => \n",
    "  (gameInfo.appid, GameInfoValues(gameInfo.developer, gameInfo.publisher, gameInfo.genre))\n",
    "}.partitionBy(partitioner).cache()\n",
    "\n",
    "val gameSessions = sc.textFile(path_games_full).flatMap(SteamGamesParser.parseGameLine)\n",
    "\n",
    "val gameSessionsWithSteamKey = gameSessions.map { game => \n",
    "  ((game.steamid), GameValuesWithAppKey(game.appid, game.playtimeTwoWeek, game.playtimeForever))\n",
    "}.partitionBy(partitioner).persist(StorageLevel.MEMORY_ONLY)\n",
    "\n",
    "val gameSessionsWithAppKey = gameSessions.map { game => \n",
    "  ((game.appid), GameValuesWithSteamKey(game.steamid, game.playtimeTwoWeek, game.playtimeForever))\n",
    "}.partitionBy(partitioner).persist(StorageLevel.MEMORY_ONLY)\n",
    "\n",
    "val friends = sc.textFile(path_friends).flatMap(SteamGamesParser.parseFriendLine).map { friend => \n",
    "  ((friend.steamidA, friend.steamidB), FriendValues(friend.friendSinceYear))\n",
    "}.partitionBy(partitioner).persist(StorageLevel.MEMORY_ONLY)\n",
    "\n",
    "val achievementsWithPlayerName = sc.textFile(path_achievement).flatMap(SteamGamesParser.parseAchievementLine).map {  achievement =>\n",
    "    ((achievement.playername), AchievementValuesWithAppKey(achievement.appid, achievement.percentage))\n",
    "}.partitionBy(partitioner).cache()\n",
    "\n",
    "val achievementsWithAppKey = sc.textFile(path_achievement).flatMap(SteamGamesParser.parseAchievementLine).map {  achievement =>\n",
    "    ((achievement.appid), AchievementValuesWithPlayerNameKey(achievement.playername, achievement.percentage))\n",
    "}.partitionBy(partitioner).cache()"
   ]
  },
  {
   "cell_type": "code",
   "execution_count": 5,
   "id": "aaa37e81",
   "metadata": {
    "scrolled": true
   },
   "outputs": [
    {
     "data": {
      "application/vnd.jupyter.widget-view+json": {
       "model_id": "57d77c3d77bf4c6a8711cb04bb759c6b",
       "version_major": 2,
       "version_minor": 0
      },
      "text/plain": [
       "VBox()"
      ]
     },
     "metadata": {},
     "output_type": "display_data"
    },
    {
     "data": {
      "application/vnd.jupyter.widget-view+json": {
       "model_id": "",
       "version_major": 2,
       "version_minor": 0
      },
      "text/plain": [
       "FloatProgress(value=0.0, bar_style='info', description='Progress:', layout=Layout(height='25px', width='50%'),…"
      ]
     },
     "metadata": {},
     "output_type": "display_data"
    },
    {
     "name": "stdout",
     "output_type": "stream",
     "text": [
      "totalPlaytimeForGame: org.apache.spark.rdd.RDD[(Long, Int)] = MapPartitionsRDD[37] at reduceByKey at <console>:36\n",
      "friendCounts: org.apache.spark.rdd.RDD[(Long, Int)] = ShuffledRDD[39] at reduceByKey at <console>:37\n"
     ]
    }
   ],
   "source": [
    "/** Total playtime for each game\n",
    "    1. gameSession_mappedVal(appid, playtimeforever)\n",
    "    2. gameSession_mappedVal_reduced(appid, sum(playtimeforever))\n",
    "    3. Cached!!! used in (1) and (5)\n",
    "**/\n",
    "val totalPlaytimeForGame = gameSessionsWithAppKey.\n",
    "    mapValues(_.playtimeForever).\n",
    "    reduceByKey(_ + _).\n",
    "    partitionBy(partitioner).\n",
    "    cache()\n",
    "\n",
    "/** Count the number of friends for each player\n",
    "    1. friend_mapped(steamidA,1), friend(steamidB,1)\n",
    "    2. friend_mapped_reduced(steamidA, sum), friend(steamidB, sum)\n",
    "    3. Cached!!! Used in (3),(4) and (6)\n",
    "**/\n",
    "val friendCounts = friends.\n",
    "    flatMap { case ((steamidA, steamidB), _) => Seq((steamidA, 1), (steamidB, 1)) }.\n",
    "    reduceByKey(_ + _).\n",
    "    partitionBy(partitioner).\n",
    "    cache()"
   ]
  },
  {
   "cell_type": "code",
   "execution_count": 6,
   "id": "6ab4cec0",
   "metadata": {
    "scrolled": true
   },
   "outputs": [
    {
     "data": {
      "application/vnd.jupyter.widget-view+json": {
       "model_id": "e833ef394a2c45e4b8863bbe17b6227d",
       "version_major": 2,
       "version_minor": 0
      },
      "text/plain": [
       "VBox()"
      ]
     },
     "metadata": {},
     "output_type": "display_data"
    },
    {
     "data": {
      "application/vnd.jupyter.widget-view+json": {
       "model_id": "",
       "version_major": 2,
       "version_minor": 0
      },
      "text/plain": [
       "FloatProgress(value=0.0, bar_style='info', description='Progress:', layout=Layout(height='25px', width='50%'),…"
      ]
     },
     "metadata": {},
     "output_type": "display_data"
    },
    {
     "name": "stdout",
     "output_type": "stream",
     "text": [
      "appsMap: scala.collection.immutable.Map[Long,(String, Double, Int, Double, Int)] = Map(42890 -> (Sword of the Stars: Complete Collection,75.0,1,9.99,2010), 221020 -> (Towns,-1.0,0,14.99,2012), 428140 -> (TowerClimb - Extended Original Soundtrack,-1.0,0,8.99,2016), 402840 -> (Crusaders of the Lost Idols,-1.0,0,0.0,2015), 204308 -> (Awesomenauts - Hotrod Derpl Skin,-1.0,1,2.49,2012), 42900 -> (Hearts of Iron III: Semper Fi,65.0,1,4.99,2010), 446870 -> (Glitchrunners,-1.0,0,12.99,2016), 421166 -> (MX vs. ATV Supercross Encore - 2 Stroke 4 Pack,-1.0,1,1.99,2016), 90410 -> (Blue Toad Murder Files?: The Mysteries of Little Riddle Demo,-1.0,1,0.0,2010), 259620 -> (3079 -- Block Action RPG,-1.0,1,4.99,2013), 325330 -> (Muvee Reveal 11,-1.0,0,79.99,2015), 349680 -> (Supercharged Robot VULKAISER,...\n",
      "broadcastedApps: org.apache.spark.broadcast.Broadcast[scala.collection.immutable.Map[Long,(String, Double, Int, Double, Int)]] = Broadcast(8)\n"
     ]
    }
   ],
   "source": [
    "val appsMap = apps.\n",
    "    mapValues(v => (v.title, v.rating.toDouble, v.isMultiplayer, v.price.toDouble, v.releaseYear)).\n",
    "    collectAsMap().toMap\n",
    "\n",
    "val broadcastedApps = sc.broadcast(appsMap)"
   ]
  },
  {
   "cell_type": "code",
   "execution_count": null,
   "id": "33d0abb9",
   "metadata": {},
   "outputs": [],
   "source": [
    "// Total number of games sessions \n",
    "println(s\"Total number of games sessions: ${gameSessions.count()}\")\n",
    "\n",
    "// Total number of games\n",
    "// (Possibile candidata broadcast)\n",
    "println(s\"Total number of apps: ${apps.count()}\")\n",
    "\n",
    "// Total number of players\n",
    "// (Possibile candidata broadcast)\n",
    "println(s\"Total number of players: ${players.count()}\")\n",
    "\n",
    "// Total number of friends connections\n",
    "println(s\"Total number of friends connections: ${friends.count()}\")\n",
    "\n",
    "// Total number of game informations\n",
    "// (Possibile candidata broadcast, solo se le informazioni sono molto leggere)\n",
    "println(s\"Total number of game informations: ${gameInfo.count()}\")\n",
    "\n",
    "// Total number of achievements\n",
    "println(s\"Total number of achievements: ${achievementsWithAppKey.count()}\")\n"
   ]
  },
  {
   "cell_type": "code",
   "execution_count": 47,
   "id": "c5547444",
   "metadata": {
    "scrolled": false
   },
   "outputs": [
    {
     "data": {
      "application/vnd.jupyter.widget-view+json": {
       "model_id": "c2024b5232a84fda8c3f7caef35aa90d",
       "version_major": 2,
       "version_minor": 0
      },
      "text/plain": [
       "VBox()"
      ]
     },
     "metadata": {},
     "output_type": "display_data"
    },
    {
     "data": {
      "application/vnd.jupyter.widget-view+json": {
       "model_id": "",
       "version_major": 2,
       "version_minor": 0
      },
      "text/plain": [
       "FloatProgress(value=0.0, bar_style='info', description='Progress:', layout=Layout(height='25px', width='50%'),…"
      ]
     },
     "metadata": {},
     "output_type": "display_data"
    },
    {
     "name": "stdout",
     "output_type": "stream",
     "text": [
      "multiplayerSessions: org.apache.spark.rdd.RDD[(Long, Int)] = ShuffledRDD[215] at reduceByKey at <console>:49\n",
      "joinedData: org.apache.spark.rdd.RDD[(Long, (Double, Double))] = MapPartitionsRDD[219] at mapValues at <console>:44\n",
      "finalDF: org.apache.spark.sql.DataFrame = [appid: bigint, friendCount: double ... 1 more field]\n",
      "correlation3: Double = 0.07480698619060326\n",
      "Correlation between number of friends and multiplayer apps is 0.07480698619060326\n"
     ]
    }
   ],
   "source": [
    "/** (6) - Correlation between number of friends and number multiplayer applications **/\n",
    "\n",
    "\n",
    "/** Count the number of multiplayer sessions for each player \n",
    "    1. gameSessionWithAppKey(appid, steamid)\n",
    "    1. join_broadcast(appid, (steamid ,...multiplayer == 1))\n",
    "    2. join_broadcast_mapped(steamid, 1)\n",
    "    3. join_broadcast_mapped_reduced(steamid, sum(multiplayerOccurences))\n",
    "**/\n",
    "val multiplayerSessions = gameSessionsWithAppKey.\n",
    "    filter { case (appid, _) => \n",
    "        val appDetails = broadcastedApps.value.getOrElse(appid, null)\n",
    "        appDetails != null && appDetails._3 == 1 }.\n",
    "    mapValues(_.steamid).\n",
    "    map { case (_, steamid) => (steamid, 1) }.\n",
    "    reduceByKey(_ + _)\n",
    "    \n",
    "\n",
    "/** Unify with the number of friends\n",
    "    1. join(steamid, ((sum(multiplayerOccurences), sum(friendsOccurrences))))\n",
    "**/\n",
    "val joinedData = multiplayerSessions.\n",
    "    partitionBy(partitioner).\n",
    "    join(friendCounts).\n",
    "    mapValues { case (countMultiplayers, friends) => (friends.toDouble , countMultiplayers.toDouble) }\n",
    "\n",
    "val finalDF = joinedData.\n",
    "    coalesce(1).\n",
    "    toDF(\"appid\",\"metrics\").\n",
    "    select($\"appid\", \n",
    "           $\"metrics._1\".alias(\"friendCount\"), \n",
    "           $\"metrics._2\".alias(\"numMultiplayerSessions\"))\n",
    "\n",
    "// Save results\n",
    "finalDF.write.format(\"csv\").mode(SaveMode.Overwrite).save(path_output_correlation)\n",
    "\n",
    "// Calculate the correlation between number of friends and number multiplayer applications\n",
    "val correlation3 = finalDF.stat.corr(\"friendCount\", \"numMultiplayerSessions\")\n",
    "\n",
    "// print results\n",
    "println(s\"Correlation between number of friends and multiplayer apps is $correlation3\")"
   ]
  },
  {
   "cell_type": "code",
   "execution_count": 48,
   "id": "6d4b08f1",
   "metadata": {},
   "outputs": [
    {
     "data": {
      "application/vnd.jupyter.widget-view+json": {
       "model_id": "72aa5fb4418b43e687fc8bbae93cabb6",
       "version_major": 2,
       "version_minor": 0
      },
      "text/plain": [
       "VBox()"
      ]
     },
     "metadata": {},
     "output_type": "display_data"
    },
    {
     "data": {
      "application/vnd.jupyter.widget-view+json": {
       "model_id": "",
       "version_major": 2,
       "version_minor": 0
      },
      "text/plain": [
       "FloatProgress(value=0.0, bar_style='info', description='Progress:', layout=Layout(height='25px', width='50%'),…"
      ]
     },
     "metadata": {},
     "output_type": "display_data"
    },
    {
     "name": "stdout",
     "output_type": "stream",
     "text": [
      "totalAndCountAchievement: org.apache.spark.rdd.RDD[(Long, (Float, Int))] = MapPartitionsRDD[231] at reduceByKey at <console>:41\n",
      "averageAchievement: org.apache.spark.rdd.RDD[(Long, Float)] = MapPartitionsRDD[232] at mapValues at <console>:38\n",
      "mostAchievedAppsAverage: org.apache.spark.rdd.RDD[(Long, (Float, String))] = ShuffledRDD[236] at sortByKey at <console>:45\n",
      "finalDF: org.apache.spark.sql.DataFrame = [appid: bigint, average_percentage: float ... 1 more field]\n"
     ]
    }
   ],
   "source": [
    "/** (10) - Where players try to complete more achievements? **/\n",
    "\n",
    "/** Calculate the average percentage of completion for each app\n",
    "  1. achievements_mapped(appid, (percentage, 1))\n",
    "  2. achievements_reduced(appid, (sum(percentage), count))\n",
    "**/\n",
    "val totalAndCountAchievement = achievementsWithAppKey.\n",
    "  mapValues(v => (v.percentage,1)).\n",
    "  reduceByKey((a, b) => (a._1 + b._1, a._2 + b._2))\n",
    "\n",
    "/** Average achievements\n",
    "  1. achievements__reduced_mappedval(appid, average_percentage = sum / count)\n",
    "**/\n",
    "val averageAchievement = totalAndCountAchievement.\n",
    "    mapValues { case (total, count) => total / count }\n",
    "\n",
    "/** Most achieved apps\n",
    "  1. join(appid, (average_percentage, appValues))\n",
    "  2. join_mapped(average_percentage, title)\n",
    "  3. Sort by average_percentage\n",
    "**/\n",
    "val mostAchievedAppsAverage = averageAchievement.\n",
    "  map { case (appid, avg) =>\n",
    "     val appDetails = broadcastedApps.value.getOrElse(appid, null)\n",
    "     val title = if (appDetails != null) appDetails._1 else \"Unknown\"  \n",
    "     (appid, (avg, title)) }.\n",
    "  sortByKey(false)\n",
    "\n",
    "val finalDF = mostAchievedAppsAverage.\n",
    "    coalesce(1).\n",
    "    toDF(\"appid\",\"metrics\").\n",
    "    select($\"appid\", \n",
    "           $\"metrics._1\".alias(\"average_percentage\"), \n",
    "           $\"metrics._2\".alias(\"title\"))\n",
    "\n",
    "// Save results\n",
    "finalDF.write.format(\"csv\").mode(SaveMode.Overwrite).save(path_output_most_achieved_app)\n",
    "\n",
    "// Print results\n",
    "// mostAchievedAppsAverage.\n",
    "//     coalesce(1).\n",
    "//     collect().\n",
    "//     foreach {\n",
    "//   case (appid, (averagePercentage, title)) => println(s\"* '$title' ($appid), average achieved ${averagePercentage}% by players\")\n",
    "// }\n"
   ]
  },
  {
   "cell_type": "code",
   "execution_count": 49,
   "id": "2432eb23",
   "metadata": {},
   "outputs": [
    {
     "data": {
      "application/vnd.jupyter.widget-view+json": {
       "model_id": "4b3cfc47f90449148d1f785a36c83850",
       "version_major": 2,
       "version_minor": 0
      },
      "text/plain": [
       "VBox()"
      ]
     },
     "metadata": {},
     "output_type": "display_data"
    },
    {
     "data": {
      "application/vnd.jupyter.widget-view+json": {
       "model_id": "",
       "version_major": 2,
       "version_minor": 0
      },
      "text/plain": [
       "FloatProgress(value=0.0, bar_style='info', description='Progress:', layout=Layout(height='25px', width='50%'),…"
      ]
     },
     "metadata": {},
     "output_type": "display_data"
    },
    {
     "name": "stdout",
     "output_type": "stream",
     "text": [
      "avgPlaytimeByReleaseYear: org.apache.spark.rdd.RDD[(Int, Double)] = MapPartitionsRDD[243] at mapValues at <console>:51\n",
      "finalDF: org.apache.spark.sql.DataFrame = [_1: int, _2: double]\n"
     ]
    }
   ],
   "source": [
    "/** (12) - Average of playtime based on relased date **/\n",
    "\n",
    "/** Average playtime by release year\n",
    "    1. join(appid, (gameValues, appValues))\n",
    "    2. join_mapped(releaseYear, playtimeForever)\n",
    "    3. join_mapped_reduced(releaseYear, (sum(playtimeForever), count(this)))\n",
    "    4. join_mapped_reduced_mapped(releaseYear, sum(playtimeForever) / count(this))\n",
    "**/\n",
    "val avgPlaytimeByReleaseYear = gameSessionsWithAppKey.\n",
    "  map {case (appid, gameInfo) =>\n",
    "     val appDetails = broadcastedApps.value.getOrElse(appid, null)\n",
    "     val releaseYear: Int = if (appDetails != null) appDetails._5 else 0  \n",
    "     (releaseYear, gameInfo.playtimeForever) }.\n",
    "  aggregateByKey((0.0, 0))(\n",
    "    (acc, v) => (acc._1 + v, acc._2 + 1),\n",
    "    (acc1, acc2) => (acc1._1 + acc2._1, acc1._2 + acc2._2) ).\n",
    "    mapValues(v => v._1 / v._2)\n",
    "\n",
    "val finalDF = avgPlaytimeByReleaseYear.\n",
    "    coalesce(1).\n",
    "    toDF()\n",
    "\n",
    "// Save results\n",
    "finalDF.write.format(\"csv\").mode(SaveMode.Overwrite).save(path_output_avg_playtime_release_year)\n",
    "\n",
    "// print results\n",
    "// avgPlaytimeByReleaseYear.\n",
    "//     coalesce(1).\n",
    "//     collect().\n",
    "//     foreach { \n",
    "//     case (releaseYear, avg) => println(s\"* On relased date $releaseYear the average playtime was $avg minutes\")\n",
    "// }"
   ]
  },
  {
   "cell_type": "code",
   "execution_count": null,
   "id": "0fa9abc1",
   "metadata": {},
   "outputs": [],
   "source": [
    "/** (1) - Game most popular **/\n",
    "\n",
    "/** Added gamename to the total playtime\n",
    "    1. broadcast_join((appid, title), time)\n",
    "**/\n",
    "val totalPlaytimeWithNames = totalPlaytimeForGame.\n",
    "    map { case (appid, time) =>\n",
    "         val appDetails = broadcastedApps.value.getOrElse(appid, null)\n",
    "         val title = if (appDetails != null) appDetails._1 else \"Unknown\"\n",
    "        (time, (appid, title))\n",
    "}\n",
    "\n",
    "/** Most played game\n",
    "    1. broadcast_join_reduced((appid, gamename), max(time))\n",
    "**/\n",
    "val mostPlayedGame = totalPlaytimeWithNames.\n",
    "    reduceByKey((a, b) => if (a._2 > b._2) a else b).\n",
    "    sortByKey(false)\n",
    "\n",
    "// print results\n",
    "mostPlayedGame.coalesce(1).collect().foreach { \n",
    "  case (time, (appid, title)) => \n",
    "    println(s\"* '$title' ($appid) is the most played with $time minutes of total playtime.\")\n",
    "}"
   ]
  },
  {
   "cell_type": "code",
   "execution_count": null,
   "id": "b04baebc",
   "metadata": {},
   "outputs": [],
   "source": [
    "/** (2) - Number of achievements for every app sorted  **/\n",
    "\n",
    "/** Number of achievements for each game\n",
    "    1.achievement_mapped(appid, 1)\n",
    "    2.achievement_mapped_reduced(appid, sum)\n",
    "**/\n",
    "val numberOfAchievementsByGame = achievementsWithAppKey.\n",
    "    mapValues(_ => 1).\n",
    "    reduceByKey(_ + _).\n",
    "    sortByKey()\n",
    "\n",
    "/** Added gamename to the total playtime\n",
    "    1. broadcast_join((appid, sum), time)\n",
    "**/\n",
    "val joinedData = totalPlaytimeForGame.\n",
    "    map { case (appid, sum) =>\n",
    "         val appDetails = broadcastedApps.value.getOrElse(appid, null)\n",
    "         val title = if (appDetails != null) appDetails._1 else \"Unknown\"\n",
    "        (appid, (sum, title))\n",
    "}\n",
    "\n",
    "// print results\n",
    "joinedData.coalesce(1).collect().foreach { \n",
    "  case (appid, (count, title)) => println(s\"* $title ($appid) has $count achievements.\")\n",
    "}"
   ]
  },
  {
   "cell_type": "code",
   "execution_count": null,
   "id": "32094908",
   "metadata": {
    "scrolled": true
   },
   "outputs": [],
   "source": [
    "/** (3) - Average friend of each country **/\n",
    "\n",
    "/** Get player with country\n",
    "    1. player_mappedVal(steamid, loccountrycode)\n",
    "**/\n",
    "val PlayerWithCountry = players.\n",
    "    filter { case (_, playerValues) => playerValues.loccountrycode.isDefined }.\n",
    "    mapValues(_.loccountrycode.get)\n",
    "\n",
    "/** Add countrycode for each friends\n",
    "    1. join(steamid, (countryCode, loccountrycode))\n",
    "    2. join_mapped(countryCode, count) --> {permit aggregatebyKey}\n",
    "**/\n",
    "val friendCountsByCountry = friendCounts.\n",
    "//     partitionBy(partitioner).\n",
    "    join(PlayerWithCountry).\n",
    "    map { case (steamid, (count, countryCode)) => (countryCode, count) }\n",
    "\n",
    "/** Sum and count for each country\n",
    "    1. join_mapped_reduce(countrycode, (sum, num))\n",
    "**/\n",
    "val sumAndCountByCountry = friendCountsByCountry.\n",
    "    aggregateByKey((0, 0))(\n",
    "      (acc, value) => (acc._1 + value, acc._2 + 1),\n",
    "      (acc1, acc2) => (acc1._1 + acc2._1, acc1._2 + acc2._2)\n",
    "    )\n",
    "\n",
    "/** Find the average\n",
    "    1. join_mapped_reduce_mappedVal(countrycode, avg)\n",
    "**/\n",
    "val avgByCountry = sumAndCountByCountry.\n",
    "    mapValues { case (sum, count) => if (count > 0) sum.toDouble / count else 0.0 }.\n",
    "    sortBy(_.avg)\n",
    "\n",
    "// print results\n",
    "avgByCountry.coalesce(1).collect().foreach { \n",
    "  case (country, mean) => println(s\"* Country $country has average friends of $mean.\")\n",
    "}"
   ]
  },
  {
   "cell_type": "code",
   "execution_count": null,
   "id": "d8fe3646",
   "metadata": {},
   "outputs": [],
   "source": [
    "/** (4) - Correlation between total play time and friends **/\n",
    "\n",
    "/** Calculate the total play time for each player\n",
    "    1. gameSessions_mappedVal(steamid, playtimeForever)\n",
    "    2. gameSessions_mapped_reduced(steamid, sum(playtimeForever))\n",
    "**/\n",
    "val totalPlayTimeByPlayer = gameSessionsWithSteamKey.\n",
    "    mapValues(_.playtimeForever).\n",
    "    reduceByKey(_ + _)\n",
    "\n",
    "/** Unify the data\n",
    "    1. join(steamid, (sum(playtimeforever), sum(friends_occurrences))) (TODO - used in the other correlations, maybe caching?)\n",
    "**/\n",
    "val joinedData = totalPlayTimeByPlayer.\n",
    "//     partitionBy(partitioner).\n",
    "    join(friendCounts).\n",
    "    mapValues { case (playTime, friendCount) => (playTime.toDouble , friendCount.toDouble) }\n",
    "\n",
    "val joinDF = joinedData.\n",
    "    toDF(\"steamid\",\"metrics\").\n",
    "    select($\"steamid\", \n",
    "           $\"metrics._1\".alias(\"totalPlayTime\"), \n",
    "           $\"metrics._2\".alias(\"friendCount\"))\n",
    "\n",
    "// Calculate the correlation between the sum of total play time and the number of occured friends\n",
    "val correlation1 = joinDF.stat.corr(\"totalPlayTime\", \"friendCount\")\n",
    "\n",
    "// print results\n",
    "println(s\"Correlation between total play time and number of friends is $correlation1\")"
   ]
  },
  {
   "cell_type": "code",
   "execution_count": null,
   "id": "8df85061",
   "metadata": {},
   "outputs": [],
   "source": [
    "/** (5) - Correlation between app ranking and total play time **/\n",
    "\n",
    "/** Calculate the total play time for each player\n",
    "    1. gameSessions_mapped(appid, playtimeForever)\n",
    "    2. gameSessions_mapped_reduced(appid, sum(playtimeForever))\n",
    "**/\n",
    "val totalPlayTimeByGame = gameSessionsWithAppKey.\n",
    "    mapValues(_.playtimeForever).\n",
    "    reduceByKey(_ + _)\n",
    "\n",
    "/** Unify the data\n",
    "    1. join_broadcast(appid, (sum(playtimeforever), ranking))\n",
    "**/\n",
    "val joinedData = totalPlaytimeForGame.\n",
    "    map { case (appid, time) =>\n",
    "         val appDetails = broadcastedApps.value.getOrElse(appid, null)\n",
    "         val rating = if (appDetails != null) appDetails._2 else 0.0 \n",
    "        (appid, (rating, time)) }.\n",
    "    mapValues { case (playTime, rating) => (playTime.toDouble , rating.toDouble) }\n",
    "\n",
    "val joinDF = joinedData.\n",
    "    toDF(\"appid\",\"metrics\").\n",
    "    select($\"appid\", \n",
    "           $\"metrics._1\".alias(\"totalPlayTime\"), \n",
    "           $\"metrics._2\".alias(\"ranking\"))\n",
    "\n",
    "// Calculate the correlation between the sum of total play time and the rating\n",
    "val correlation2 = joinDF.stat.corr(\"totalPlayTime\", \"ranking\")\n",
    "\n",
    "// print results\n",
    "println(s\"Correlation between total play time and game ratings is $correlation2\")"
   ]
  },
  {
   "cell_type": "code",
   "execution_count": null,
   "id": "bb8c7d4c",
   "metadata": {},
   "outputs": [],
   "source": [
    "/** (7) - Find all the unplayed apps bought by players **/\n",
    "\n",
    "/** Obtain only the unplayed game\n",
    "    1. gameSessions_filtered(appid,... playtimeForever == 0)\n",
    "**/\n",
    "val unplayedGames = gameSessionsWithAppKey.\n",
    "  filter {case (_, gameValues) => gameValues.playtimeForever == 0}\n",
    "\n",
    "/** Count the unplayed apps for each player\n",
    "    1. gameSessions_filtered_mapped(appid,1)\n",
    "    2. gameSessions_filtered_mapped_reduced(appid,countGameSessions)\n",
    "**/\n",
    "val countUnplayedGamesByPlayer = unplayedGames.\n",
    "    mapValues(_ => 1).\n",
    "    reduceByKey(_ + _)\n",
    "\n",
    "/** Unify the data alternative --> (join(apps.mapValues(_.title)))\n",
    "    1. join_broadcast(appid, (countGameSessions, title))\n",
    "**/\n",
    "val joinedData = countUnplayedGamesByPlayer.\n",
    "    map { case (appid, unplayed) =>\n",
    "         val appDetails = broadcastedApps.value.getOrElse(appid, null)\n",
    "         val title = if (appDetails != null) appDetails._1 else \"Unknown\"\n",
    "        (appid, (unplayed, title)) }\n",
    "\n",
    "// print results\n",
    "joinedData.coalesce(1).collect().foreach { \n",
    "  case (steamid, (unplayed, title)) => println(s\"* '$title' ($steamid) is unplayed by $unplayed players\")\n",
    "}"
   ]
  },
  {
   "cell_type": "code",
   "execution_count": null,
   "id": "d33fd952",
   "metadata": {},
   "outputs": [],
   "source": [
    "/** (8) - Apps more expensive by genre **/\n",
    "\n",
    "/** Genre associated with apps informations\n",
    "    1. apps_mapVal(appid, (title, price))\n",
    "    2. join_broadcast(genre, (appid, title, price))\n",
    "**/\n",
    "val joinGame = gameInfo.\n",
    "    map { case (appid, gameVal) =>\n",
    "         val appDetails = broadcastedApps.value.getOrElse(appid, null)\n",
    "         val title = if (appDetails != null) appDetails._1 else \"Unknown\"\n",
    "         val price = if (appDetails != null) appDetails._4 else 0.0\n",
    "         (gameVal.genre, (appid, title, price))\n",
    "    }\n",
    "\n",
    "/** Find the most expensive app by genre\n",
    "    1. join_mapped_reduced(genre, max((appid, title, price)))\n",
    "**/\n",
    "val mostExpensiveGameByGenre = joinGame.\n",
    "    reduceByKey { (game1, game2) => if (game1._3 > game2._3) game1 else game2 }\n",
    "\n",
    "// print results \n",
    "mostExpensiveGameByGenre.coalesce(1).collect().foreach { \n",
    "    case (genre, (appid, title, price)) => println(s\"* '$title' ($appid) in genre $genre costs: $price \")\n",
    "}"
   ]
  },
  {
   "cell_type": "code",
   "execution_count": null,
   "id": "448e7420",
   "metadata": {},
   "outputs": [],
   "source": [
    "/** (9) - Top 10 apps with played in last two weeks **/\n",
    "\n",
    "/** Sum the game time for each apps in the last two weeks\n",
    "    1. gameSession_mapped(appid, playtimeTwoWeek) --> TODO: altro caso da evitare\n",
    "    2. gameSession_mapped_reduced(appid, sum(playtimeTwoWeek))\n",
    "**/\n",
    "val totalPlaytimeTwoWeekByGame = gameSessionsWithAppKey.\n",
    "    mapValues(_.playtimeTwoWeek).\n",
    "    reduceByKey(_ + _)\n",
    "\n",
    "/** Unify with the information of app title\n",
    "    1. join(appid, ((sum(playtimeTwoWeek), appValues))\n",
    "    2. join_mapped((sum(playtimeTwoWeek), title)\n",
    "    3. join_mapped_sorted(((sum(playtimeTwoWeek), title))\n",
    "**/\n",
    "val mostPlayedGames = totalPlaytimeTwoWeekByGame.\n",
    "    map {\n",
    "        case (appid, totalTwoWeek) =>\n",
    "         val appDetails = broadcastedApps.value.getOrElse(appid, null)\n",
    "         val title = if (appDetails != null) appDetails._1 else \"Unknown\"\n",
    "         (totalTwoWeek, (appid, title)) }.\n",
    "    sortByKey(false)\n",
    "    \n",
    "// print results\n",
    "mostPlayedGames.take(10).foreach { \n",
    "    case (totalPlaytime, (appid, title)) => println(s\"* '$title' ($appid) was played $totalPlaytime minutes in the last two weeks\")\n",
    "}"
   ]
  },
  {
   "cell_type": "code",
   "execution_count": null,
   "id": "ae7f1016",
   "metadata": {},
   "outputs": [],
   "source": [
    "/** (11) - Number of apps possessed by players but never played **/\n",
    "\n",
    "/** Total game session that is never played\n",
    "  1. gameSessions_filtered((steamid, appid), ... playtimeForever == 0)\n",
    "  2. gameSessions_filtered_mapped(steamid, 1)\n",
    "  3. gameSessions_filtered_mapped(steamid, count(gamesSessions))\n",
    "**/\n",
    "val totalAppsNeverPlayed = gameSessionsWithSteamKey.\n",
    "  filter { case (_, gameValues) => gameValues.playtimeForever == 0 && gameValues.playtimeTwoWeek == 0 }\n",
    "\n",
    "/** Unplayed games by players\n",
    "  1. join(steamid, (count(gamesSessions), playerValues))\n",
    "  * Possibile broadcast (costosa)\n",
    "**/\n",
    "val unplayedGamesByPlayer = totalAppsNeverPlayed.\n",
    "//   partitionBy(partitioner).\n",
    "  join(players).\n",
    "  map { case (steamid, (count, playerValues)) => (steamid, (count, playerValues.personaname)) }\n",
    "\n",
    "// Print results\n",
    "unplayedGamesByPlayer.coalesce(1).collect().foreach { \n",
    "  case (steamid, (count, personaname)) => println(s\"Player: $personaname ($steamid), never played $count apps bought\")\n",
    "}\n"
   ]
  },
  {
   "cell_type": "code",
   "execution_count": null,
   "id": "a83c5c77",
   "metadata": {},
   "outputs": [],
   "source": [
    "/** (13) - Average of playtime based on contry **/\n",
    "\n",
    "/** Unify gameSessions and players\n",
    "    1. gameSessions_mapped(steamid, gameValues)\n",
    "    2. join(steamid, (gameValues, playerValues))\n",
    "**/\n",
    "val joinedData = gameSessionsWithSteamKey.\n",
    "  join(players)\n",
    "\n",
    "/** Average playtime by country\n",
    "    1. join_mapped(loccountrycode, playtimeForever)\n",
    "    3. join_mapped_reduced(loccountrycode, (sum(playtimeForever), count(this)))\n",
    "    4. join_mapped_reduced_mapped(loccountrycode, sum(playtimeForever) / count(this))\n",
    "**/\n",
    "val avgPlayTimeByCountry = joinedData.\n",
    "  map { case (steamid, (gameValues, playerValues)) => (playerValues.loccountrycode.getOrElse(\"Unknown\"), gameValues.playtimeForever)}.\n",
    "  aggregateByKey((0.0, 0))(\n",
    "    (acc, v) => (acc._1 + v, acc._2 + 1),\n",
    "    (acc1, acc2) => (acc1._1 + acc2._1, acc1._2 + acc2._2) ).\n",
    "    mapValues(v => v._1 / v._2)\n",
    "\n",
    "// print results\n",
    "avgPlayTimeByCountry.coalesce(1).collect().foreach { \n",
    "  case (country, avgPlayTime) => println(s\"Average playtime in $country is $avgPlayTime minutes.\")\n",
    "}"
   ]
  },
  {
   "cell_type": "code",
   "execution_count": null,
   "id": "751e51a7",
   "metadata": {},
   "outputs": [],
   "source": [
    "/** (14) - Churn Rate (abandoning the game) **/\n",
    "\n",
    "/** Filter out active users from gameSessions\n",
    "    1. gameSessions_filtered((steamid, appid), ...playtimeForever > 0 && gameValues.playtimeTwoWeek == 0)\n",
    "**/\n",
    "val inActiveUsers = gameSessionsWithAppKey.\n",
    "  filter {case (_, gameValues) => gameValues.playtimeForever > 0 && gameValues.playtimeTwoWeek == 0}\n",
    "\n",
    "/** Count the number of inactive users per game\n",
    "    1. gameSessions_filtered_mapped(appid, 1)\n",
    "    2. gameSessions_filtered_mapped_reduced(appid, sum(this))\n",
    "**/\n",
    "val inActiveUsersPerGame = inActiveUsers.\n",
    "  mapValues(_ =>1).\n",
    "  reduceByKey(_ + _)\n",
    "\n",
    "/** Count the total number of users per game\n",
    "    1. gameSessions_mapped(appid,1)\n",
    "    2. gameSessions_mapped_reduced(appid, sum(this))\n",
    "**/\n",
    "val totalUsersPerGame = gameSessionsWithAppKey.\n",
    "  mapValues(_ =>1).\n",
    "  reduceByKey(_ + _)\n",
    "\n",
    "/** Calculate the churn rate per game\n",
    "    1. join(appid, (sum(this), sum(this)))\n",
    "**/\n",
    "val churnRatePerGame = inActiveUsersPerGame.\n",
    "//   partitionBy(partitioner).\n",
    "  join(totalUsersPerGame).\n",
    "  mapValues {case ((inActiveCount, totalCount)) => ((inActiveCount.toDouble / totalCount) * 100)}\n",
    "\n",
    "// print results\n",
    "churnRatePerGame.coalesce(1).collect().foreach { \n",
    "  case (appid, churnRate) => println(s\"The churn rate for game $appid is $churnRate%.\")\n",
    "}"
   ]
  }
 ],
 "metadata": {
  "kernelspec": {
   "display_name": "Spark",
   "language": "scala",
   "name": "sparkkernel"
  },
  "language_info": {
   "codemirror_mode": "text/x-scala",
   "file_extension": ".sc",
   "mimetype": "text/x-scala",
   "name": "scala",
   "pygments_lexer": "scala"
  }
 },
 "nbformat": 4,
 "nbformat_minor": 5
}
