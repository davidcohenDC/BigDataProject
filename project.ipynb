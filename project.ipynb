{
 "cells": [
  {
   "cell_type": "markdown",
   "id": "412ddc7e",
   "metadata": {
    "execution": {
     "iopub.execute_input": "2022-02-28T15:34:09.444324Z",
     "iopub.status.busy": "2022-02-28T15:34:09.441785Z",
     "iopub.status.idle": "2022-02-28T15:34:10.302913Z",
     "shell.execute_reply": "2022-02-28T15:34:10.302209Z",
     "shell.execute_reply.started": "2022-02-28T15:34:09.444282Z"
    }
   },
   "source": []
  },
  {
   "cell_type": "code",
   "execution_count": 1,
   "id": "5a78c104-6d6f-48e6-b5ea-5880254f5cb1",
   "metadata": {},
   "outputs": [
    {
     "data": {
      "text/html": [
       "Current session configs: <tt>{'executorMemory': '8G', 'numExecutors': 2, 'executorCores': 3, 'conf': {'spark.dynamicAllocation.enabled': 'false'}, 'proxyUser': 'assumed-role_voclabs_user2784992_David_Cohen', 'kind': 'spark'}</tt><br>"
      ],
      "text/plain": [
       "<IPython.core.display.HTML object>"
      ]
     },
     "metadata": {},
     "output_type": "display_data"
    },
    {
     "data": {
      "text/html": [
       "No active sessions."
      ],
      "text/plain": [
       "<IPython.core.display.HTML object>"
      ]
     },
     "metadata": {},
     "output_type": "display_data"
    }
   ],
   "source": [
    "%%configure -f\n",
    "{\"executorMemory\":\"8G\", \"numExecutors\":2, \"executorCores\":3, \"conf\": {\"spark.dynamicAllocation.enabled\": \"false\"}}"
   ]
  },
  {
   "cell_type": "code",
   "execution_count": 2,
   "id": "6297e3f5-17d3-44ba-a06c-8b1acf0ca078",
   "metadata": {
    "tags": []
   },
   "outputs": [
    {
     "data": {
      "application/vnd.jupyter.widget-view+json": {
       "model_id": "6c84e1e4eca3458491afe90358d09c66",
       "version_major": 2,
       "version_minor": 0
      },
      "text/plain": [
       "VBox()"
      ]
     },
     "metadata": {},
     "output_type": "display_data"
    },
    {
     "name": "stdout",
     "output_type": "stream",
     "text": [
      "Starting Spark application\n"
     ]
    },
    {
     "data": {
      "text/html": [
       "<table>\n",
       "<tr><th>ID</th><th>YARN Application ID</th><th>Kind</th><th>State</th><th>Spark UI</th><th>Driver log</th><th>User</th><th>Current session?</th></tr><tr><td>0</td><td>application_1697891147468_0001</td><td>spark</td><td>idle</td><td><a target=\"_blank\" href=\"http://ip-172-31-83-250.ec2.internal:20888/proxy/application_1697891147468_0001/\" class=\"emr-proxy-link\" emr-resource=\"j-2MKTNPN9DS7VN\n",
       "\" application-id=\"application_1697891147468_0001\">Link</a></td><td><a target=\"_blank\" href=\"http://ip-172-31-87-166.ec2.internal:8042/node/containerlogs/container_1697891147468_0001_01_000001/livy\" >Link</a></td><td>None</td><td>✔</td></tr></table>"
      ],
      "text/plain": [
       "<IPython.core.display.HTML object>"
      ]
     },
     "metadata": {},
     "output_type": "display_data"
    },
    {
     "data": {
      "application/vnd.jupyter.widget-view+json": {
       "model_id": "",
       "version_major": 2,
       "version_minor": 0
      },
      "text/plain": [
       "FloatProgress(value=0.0, bar_style='info', description='Progress:', layout=Layout(height='25px', width='50%'),…"
      ]
     },
     "metadata": {},
     "output_type": "display_data"
    },
    {
     "name": "stdout",
     "output_type": "stream",
     "text": [
      "SparkSession available as 'spark'.\n"
     ]
    },
    {
     "data": {
      "application/vnd.jupyter.widget-view+json": {
       "model_id": "",
       "version_major": 2,
       "version_minor": 0
      },
      "text/plain": [
       "FloatProgress(value=0.0, bar_style='info', description='Progress:', layout=Layout(height='25px', width='50%'),…"
      ]
     },
     "metadata": {},
     "output_type": "display_data"
    },
    {
     "name": "stdout",
     "output_type": "stream",
     "text": [
      "bucketname: String = unibo-bd2324-dcohen\n",
      "path_apps: String = s3a://unibo-bd2324-dcohen/datasets/project/App_ID_Info.csv\n",
      "path_players: String = s3a://unibo-bd2324-dcohen/datasets/project/Player_Summaries.csv\n",
      "path_friends: String = s3a://unibo-bd2324-dcohen/datasets/project/Friends.csv\n",
      "path_games_full: String = s3a://unibo-bd2324-dcohen/datasets/project/Games.csv\n",
      "path_games: String = s3a://unibo-bd2324-dcohen/datasets/project/Games20Percent.csv\n",
      "path_games_daily: String = s3a://unibo-bd2324-dcohen/datasets/project/Games_Daily.csv\n",
      "path_games_info: String = s3a://unibo-bd2324-dcohen/datasets/project/Games_Info.csv\n",
      "path_achievement: String = s3a://unibo-bd2324-dcohen/datasets/project/Achievement_Percentages.csv\n",
      "res3: String = SPARK UI: Enable forwarding of port 20888 and connect to http://localhost:20888/proxy/application_1697891147468_0001/\n"
     ]
    }
   ],
   "source": [
    "val bucketname = \"unibo-bd2324-dcohen\"\n",
    "\n",
    "val path_apps = \"s3a://\"+bucketname+\"/datasets/project/App_ID_Info.csv\"\n",
    "val path_players = \"s3a://\"+bucketname+\"/datasets/project/Player_Summaries.csv\"\n",
    "val path_friends = \"s3a://\"+bucketname+\"/datasets/project/Friends.csv\"\n",
    "val path_games_full = \"s3a://\"+bucketname+\"/datasets/project/Games.csv\"\n",
    "val path_games = \"s3a://\"+bucketname+\"/datasets/project/Games20Percent.csv\"\n",
    "val path_games_daily = \"s3a://\"+bucketname+\"/datasets/project/Games_Daily.csv\"\n",
    "val path_games_info = \"s3a://\"+bucketname+\"/datasets/project/Games_Info.csv\"\n",
    "val path_achievement = \"s3a://\"+bucketname+\"/datasets/project/Achievement_Percentages.csv\"\n",
    "\n",
    "\"SPARK UI: Enable forwarding of port 20888 and connect to http://localhost:20888/proxy/\" + sc.applicationId + \"/\""
   ]
  },
  {
   "cell_type": "code",
   "execution_count": 120,
   "id": "e643e27d-b710-43cb-bc3d-7bca65e93b15",
   "metadata": {
    "tags": []
   },
   "outputs": [
    {
     "data": {
      "application/vnd.jupyter.widget-view+json": {
       "model_id": "0f234d9c852643d48c9d55b5bf5ad51e",
       "version_major": 2,
       "version_minor": 0
      },
      "text/plain": [
       "VBox()"
      ]
     },
     "metadata": {},
     "output_type": "display_data"
    },
    {
     "data": {
      "application/vnd.jupyter.widget-view+json": {
       "model_id": "",
       "version_major": 2,
       "version_minor": 0
      },
      "text/plain": [
       "FloatProgress(value=0.0, bar_style='info', description='Progress:', layout=Layout(height='25px', width='50%'),…"
      ]
     },
     "metadata": {},
     "output_type": "display_data"
    },
    {
     "name": "stdout",
     "output_type": "stream",
     "text": [
      "import java.text.SimpleDateFormat\n",
      "import java.util.Calendar\n",
      "import scala.util.{Try, Success, Failure}\n",
      "defined class App\n",
      "defined class PlayerSummary\n",
      "defined class GameInfo\n",
      "defined class Game\n",
      "defined class Friend\n",
      "defined class Achievement\n",
      "defined class AppValues\n",
      "defined class PlayerSummaryValues\n",
      "defined class GameInfoValues\n",
      "defined class GameValues\n",
      "defined class FriendValues\n",
      "defined class AchievementValues\n",
      "defined object SteamGamesParser\n"
     ]
    }
   ],
   "source": [
    "import java.text.SimpleDateFormat\n",
    "import java.util.Calendar\n",
    "import scala.util.{Try, Success, Failure}\n",
    "\n",
    "case class App(appid: Long, title: String, typ: String, price: Double, releaseYear: Int, rating: Int, requiredAge: Int, isMultiplayer: Int)\n",
    "case class PlayerSummary(steamid: Long, personaname: String, lastlogoffYear: Int, realname: Option[String], primaryclanid: Long, timecreatedYear: Int, loccountrycode: Option[String], locstatecode: Option[String])\n",
    "case class GameInfo(appid: Long, developer: String, publisher: String, genre: String)\n",
    "case class Game(steamid: Long, appid: Long, playtimeTwoWeek: Int, playtimeForever: Int)\n",
    "case class Friend(steamidA: Long, steamidB: Long, friendSinceYear: Int)\n",
    "case class Achievement(appid: Long, name: String, percentage: Float)\n",
    "\n",
    "case class AppValues(title: String, typ: String, price: Double, releaseYear: Int, rating: Int, requiredAge: Int, isMultiplayer: Int)\n",
    "case class PlayerSummaryValues(personaname: String, lastlogoffYear: Int, realname: Option[String], primaryclanid: Long, timecreatedYear: Int, loccountrycode: Option[String], locstatecode: Option[String])\n",
    "case class GameInfoValues(developer: String, publisher: String, genre: String)\n",
    "case class GameValues(playtimeTwoWeek: Int, playtimeForever: Int)\n",
    "case class FriendValues(friendSinceYear: Int)\n",
    "case class AchievementValues(name: String, percentage: Float)\n",
    "\n",
    "object SteamGamesParser {\n",
    "\n",
    "  val commaRegex = \",(?=(?:[^\\\"]*\\\"[^\\\"]*\\\")*[^\\\"]*$)\"\n",
    "  val pipeRegex = \"\\\\|(?=(?:[^\\\"]*\\\"[^\\\"]*\\\")*[^\\\"]*$)\"\n",
    "  val quotes = \"\\\"\"\n",
    "\n",
    "    /** Convert from date string \"yyyy-MM-dd HH:mm:ss\" to year (Int) */\n",
    "    def yearFromTimestamp(timestamp: String): Int = {\n",
    "      val dateFormat = new SimpleDateFormat(\"yyyy-MM-dd HH:mm:ss\")\n",
    "      val date = dateFormat.parse(timestamp)\n",
    "      val cal = Calendar.getInstance()\n",
    "      cal.setTime(date)\n",
    "      cal.get(Calendar.YEAR)\n",
    "    }\n",
    "    \n",
    "\n",
    "\n",
    "    def cleanField(field: String): String = field.replace(quotes, \"\").trim\n",
    "\n",
    "    def safelyConvert[A](str: String)(conversion: String => A): Option[A] = {\n",
    "      Try(conversion(str)) match {\n",
    "        case Success(value) => Some(value)\n",
    "        case Failure(e) => \n",
    "          println(s\"Error converting value '$str': ${e.getMessage}\")\n",
    "          None\n",
    "      }\n",
    "    }\n",
    "\n",
    "    /** PARSING **/\n",
    "    \n",
    "    def parseAppLine(line: String): Option[App] = {\n",
    "      val fields = line.split(\",\").map(cleanField)\n",
    "\n",
    "      fields match {\n",
    "        case Array(\n",
    "                appid, \n",
    "                title, \n",
    "                typ, \n",
    "                price, \n",
    "                releaseDate, \n",
    "                rating, \n",
    "                requiredAge, \n",
    "                isMultiplayer) =>\n",
    "          for {\n",
    "            appidLong        <- safelyConvert(appid)(_.toLong)\n",
    "            priceDouble      <- safelyConvert(price)(_.toDouble)\n",
    "            releaseYear      <- safelyConvert(releaseDate)(yearFromTimestamp)\n",
    "            ratingInt        <- safelyConvert(rating)(_.toInt)\n",
    "            requiredAgeInt   <- safelyConvert(requiredAge)(_.toInt)\n",
    "            isMultiplayerInt <- safelyConvert(isMultiplayer)(_.toInt)\n",
    "          } yield App(\n",
    "            appidLong, \n",
    "            title, \n",
    "            typ, \n",
    "            priceDouble, \n",
    "            releaseYear, \n",
    "            ratingInt, \n",
    "            requiredAgeInt, \n",
    "            isMultiplayerInt\n",
    "        )\n",
    "        case _ => None\n",
    "      }\n",
    "    }\n",
    "    \n",
    "    def parsePlayerSummaryLine(line: String): Option[PlayerSummary] = {\n",
    "      val fields = line.split(\",\").map(cleanField)\n",
    "      fields match {\n",
    "        case Array(\n",
    "                steamid, \n",
    "                personaname, \n",
    "                profileurl, \n",
    "                avatar, \n",
    "                avatarmedium, \n",
    "                avatarfull, \n",
    "                personastate, \n",
    "                communityvisibilitystate, \n",
    "                profilestate, \n",
    "                lastlogoff, \n",
    "                commentpermission, \n",
    "                realname, \n",
    "                primaryclanid, \n",
    "                timecreated, \n",
    "                gameid, \n",
    "                gameserverip, \n",
    "                gameextrainfo, \n",
    "                cityid, \n",
    "                loccountrycode, \n",
    "                locstatecode, \n",
    "                loccityid,\n",
    "                dateretrieved) =>\n",
    "          for {\n",
    "            steamidLong        <- safelyConvert(steamid)(_.toLong)\n",
    "            primaryclanidLong  <- safelyConvert(primaryclanid)(_.toLong)\n",
    "            lastlogoffYear     <- safelyConvert(lastlogoff)(yearFromTimestamp)\n",
    "            timecreatedYear    <- safelyConvert(timecreated)(yearFromTimestamp)\n",
    "            loccityidInt       <- safelyConvert(loccityid)(_.toInt)\n",
    "          } yield PlayerSummary(\n",
    "            steamidLong, \n",
    "            personaname,\n",
    "            lastlogoffYear, \n",
    "            Option(realname).orElse(Some(\"Unknown\")), \n",
    "            primaryclanidLong, \n",
    "            timecreatedYear, \n",
    "            Option(loccountrycode).orElse(Some(\"Unknown\")), \n",
    "            Option(locstatecode).orElse(Some(\"Unknown\"))\n",
    "          )\n",
    "        case _ => None\n",
    "      }\n",
    "    }\n",
    "    \n",
    "    def parseGameInfoLine(line: String): Option[GameInfo] = {\n",
    "      val fields = line.split(\",\").map(cleanField)\n",
    "\n",
    "      fields match {\n",
    "        case Array(\n",
    "                appid, \n",
    "                developer, \n",
    "                publisher, \n",
    "                genre) =>\n",
    "          for {\n",
    "            appidLong  <- safelyConvert(appid)(_.toLong)\n",
    "          } yield GameInfo(\n",
    "            appidLong, \n",
    "            developer, \n",
    "            publisher, \n",
    "            genre\n",
    "        )\n",
    "        case _ => None\n",
    "      }\n",
    "    }\n",
    "\n",
    "    def parseGameLine(line: String): Option[Game] = {\n",
    "      val fields = line.split(\",\").map(cleanField)\n",
    "\n",
    "      fields match {\n",
    "        case Array(\n",
    "                steamid, \n",
    "                appid, \n",
    "                playtimeTwoWeek,\n",
    "                playtimeForever,\n",
    "                dateretrieved) =>\n",
    "          for {\n",
    "            steamidLong  <- safelyConvert(steamid)(_.toLong)\n",
    "            appidLong  <- safelyConvert(appid)(_.toLong)\n",
    "            playtimeTwoWeekInt  <- safelyConvert(appid)(_.toInt)\n",
    "            playtimeForeverInt  <- safelyConvert(appid)(_.toInt)\n",
    "          } yield Game(\n",
    "            steamidLong, \n",
    "            appidLong, \n",
    "            playtimeTwoWeekInt, \n",
    "            playtimeForeverInt\n",
    "        )\n",
    "        case _ => None\n",
    "      }\n",
    "    }\n",
    "    \n",
    "    def parseFriendLine(line: String): Option[Friend] = {\n",
    "      val fields = line.split(\",\",-1).map(cleanField) \n",
    "        fields match {\n",
    "          case Array(\n",
    "              steamid_a,\n",
    "              steamid_b,\n",
    "              relationship,\n",
    "              friendSince,\n",
    "              dataretrived,\n",
    "              lccTag) =>\n",
    "            for {\n",
    "              steamidALong     <- safelyConvert(steamid_a)(_.toLong)\n",
    "              steamidBLong     <- safelyConvert(steamid_b)(_.toLong)\n",
    "              friendSinceYear  <- safelyConvert(friendSince)(yearFromTimestamp)\n",
    "            } yield Friend(\n",
    "              steamidALong,\n",
    "              steamidBLong,\n",
    "              friendSinceYear\n",
    "          )\n",
    "          case _ => None\n",
    "        }\n",
    "    }\n",
    "    \n",
    "    def parseAchievementLine(line: String): Option[Achievement] = {\n",
    "      val fields = line.split(\",\").map(cleanField) \n",
    "        fields match {\n",
    "          case Array(\n",
    "              appid,\n",
    "              name,\n",
    "              percentage,\n",
    "              _*) =>\n",
    "            for {\n",
    "              appidLong           <- safelyConvert(appid)(_.toLong)\n",
    "              percentageFloat     <- safelyConvert(percentage)(_.toFloat)\n",
    "            } yield Achievement(\n",
    "              appidLong,\n",
    "              name,\n",
    "              percentageFloat\n",
    "          )\n",
    "          case _ => None\n",
    "        }\n",
    "    }\n",
    "}\n"
   ]
  },
  {
   "cell_type": "code",
   "execution_count": 77,
   "id": "40f4661a",
   "metadata": {},
   "outputs": [
    {
     "data": {
      "application/vnd.jupyter.widget-view+json": {
       "model_id": "6f98f98296ea494985d6fb2e448b2057",
       "version_major": 2,
       "version_minor": 0
      },
      "text/plain": [
       "VBox()"
      ]
     },
     "metadata": {},
     "output_type": "display_data"
    },
    {
     "data": {
      "application/vnd.jupyter.widget-view+json": {
       "model_id": "",
       "version_major": 2,
       "version_minor": 0
      },
      "text/plain": [
       "FloatProgress(value=0.0, bar_style='info', description='Progress:', layout=Layout(height='25px', width='50%'),…"
      ]
     },
     "metadata": {},
     "output_type": "display_data"
    },
    {
     "name": "stdout",
     "output_type": "stream",
     "text": [
      "rddApps: org.apache.spark.rdd.RDD[App] = MapPartitionsRDD[280] at flatMap at <console>:101\n",
      "rddPlayerSummaries: org.apache.spark.rdd.RDD[PlayerSummary] = MapPartitionsRDD[283] at flatMap at <console>:101\n",
      "rddGamesInfo: org.apache.spark.rdd.RDD[GameInfo] = MapPartitionsRDD[286] at flatMap at <console>:101\n",
      "rddGames: org.apache.spark.rdd.RDD[Game] = PartitionwiseSampledRDD[290] at sample at <console>:101\n",
      "rddFriends: org.apache.spark.rdd.RDD[Friend] = PartitionwiseSampledRDD[294] at sample at <console>:101\n",
      "rddAchievements: org.apache.spark.rdd.RDD[Achievement] = MapPartitionsRDD[297] at flatMap at <console>:101\n"
     ]
    }
   ],
   "source": [
    "val rddApps = sc.textFile(path_apps).flatMap(SteamGamesParser.parseAppLine)\n",
    "val rddPlayerSummaries = sc.textFile(path_players).flatMap(SteamGamesParser.parsePlayerSummaryLine)\n",
    "val rddGamesInfo = sc.textFile(path_games_info).flatMap(SteamGamesParser.parseGameInfoLine)\n",
    "val rddGames = sc.textFile(path_games).flatMap(SteamGamesParser.parseGameLine).sample(false, 0.03) //changeIt\n",
    "val rddFriends = sc.textFile(path_friends).flatMap(SteamGamesParser.parseFriendLine).sample(false, 0.2) //changeIt\n",
    "val rddAchievements = sc.textFile(path_achievement).flatMap(SteamGamesParser.parseAchievementLine)"
   ]
  },
  {
   "cell_type": "code",
   "execution_count": 126,
   "id": "59c9597b",
   "metadata": {},
   "outputs": [
    {
     "data": {
      "application/vnd.jupyter.widget-view+json": {
       "model_id": "fc4a8730a7d340e38a963fd2bc5f89de",
       "version_major": 2,
       "version_minor": 0
      },
      "text/plain": [
       "VBox()"
      ]
     },
     "metadata": {},
     "output_type": "display_data"
    },
    {
     "data": {
      "application/vnd.jupyter.widget-view+json": {
       "model_id": "",
       "version_major": 2,
       "version_minor": 0
      },
      "text/plain": [
       "FloatProgress(value=0.0, bar_style='info', description='Progress:', layout=Layout(height='25px', width='50%'),…"
      ]
     },
     "metadata": {},
     "output_type": "display_data"
    },
    {
     "name": "stdout",
     "output_type": "stream",
     "text": [
      "import org.apache.spark.storage.StorageLevel\n",
      "rddAppsCached: org.apache.spark.rdd.RDD[(Long, AppValues)] = MapPartitionsRDD[500] at map at <console>:137\n",
      "rddPlayerSummariesCached: org.apache.spark.rdd.RDD[(Long, PlayerSummaryValues)] = MapPartitionsRDD[501] at map at <console>:130\n",
      "rddGamesInfoCached: org.apache.spark.rdd.RDD[(Long, GameInfoValues)] = MapPartitionsRDD[502] at map at <console>:130\n",
      "rddGamesCached: org.apache.spark.rdd.RDD[((Long, Long), GameValues)] = MapPartitionsRDD[503] at map at <console>:130\n",
      "rddFriendsCached: org.apache.spark.rdd.RDD[((Long, Long), FriendValues)] = MapPartitionsRDD[504] at map at <console>:130\n"
     ]
    }
   ],
   "source": [
    "import org.apache.spark.storage.StorageLevel\n",
    "\n",
    "// val rddAppsCached = rddApps.cache()\n",
    "// val rddPlayerSummariesCached = rddApps.cache()\n",
    "// val rddGamesInfoCached = rddGamesInfo.cache()\n",
    "// val rddGamesCached = rddGames.persist(StorageLevel.MEMORY_ONLY)\n",
    "// val rddFriendsCached = rddFriends.persist(StorageLevel.MEMORY_ONLY)\n",
    "// val rddAchievementsCached = rddAchievements.cache()\n",
    "\n",
    "val rddAppsCached = rddApps.map { app => \n",
    "  (app.appid, AppValues(app.title, app.typ, app.price, app.releaseYear, app.rating, app.requiredAge, app.isMultiplayer))\n",
    "}.cache()\n",
    "\n",
    "val rddPlayerSummariesCached = rddPlayerSummaries.map { player => \n",
    "  (player.steamid, PlayerSummaryValues(player.personaname, player.lastlogoffYear, player.realname, player.primaryclanid, player.timecreatedYear, player.loccountrycode, player.locstatecode))\n",
    "}.cache()\n",
    "\n",
    "val rddGamesInfoCached = rddGamesInfo.map { gameInfo => \n",
    "  (gameInfo.appid, GameInfoValues(gameInfo.developer, gameInfo.publisher, gameInfo.genre))\n",
    "}.cache()\n",
    "\n",
    "val rddGamesCached = rddGames.map { game => \n",
    "  ((game.steamid, game.appid), GameValues(game.playtimeTwoWeek, game.playtimeForever))\n",
    "}.persist(StorageLevel.MEMORY_ONLY)\n",
    "\n",
    "val rddFriendsCached = rddFriends.map { friend => \n",
    "  ((friend.steamidA, friend.steamidB), FriendValues(friend.friendSinceYear))\n",
    "}.persist(StorageLevel.MEMORY_ONLY)"
   ]
  },
  {
   "cell_type": "code",
   "execution_count": 79,
   "id": "33d0abb9",
   "metadata": {},
   "outputs": [
    {
     "data": {
      "application/vnd.jupyter.widget-view+json": {
       "model_id": "d6f2b07d1ce2431abed7f31936dac373",
       "version_major": 2,
       "version_minor": 0
      },
      "text/plain": [
       "VBox()"
      ]
     },
     "metadata": {},
     "output_type": "display_data"
    },
    {
     "data": {
      "application/vnd.jupyter.widget-view+json": {
       "model_id": "",
       "version_major": 2,
       "version_minor": 0
      },
      "text/plain": [
       "FloatProgress(value=0.0, bar_style='info', description='Progress:', layout=Layout(height='25px', width='50%'),…"
      ]
     },
     "metadata": {},
     "output_type": "display_data"
    },
    {
     "name": "stdout",
     "output_type": "stream",
     "text": [
      "Total number of games sessions: 932897\n",
      "Total number of games: 17606\n",
      "Total number of players: 17606\n",
      "Total number of friends connections: 1984469\n",
      "Total number of game informations: 43306\n",
      "Total number of achievements: 156188\n"
     ]
    }
   ],
   "source": [
    "// Total number of games sessions \n",
    "println(s\"Total number of games sessions: ${rddGamesCached.count()}\")\n",
    "\n",
    "// Total number of games\n",
    "// (Possibile candidata broadcast)\n",
    "println(s\"Total number of games: ${rddAppsCached.count()}\")\n",
    "\n",
    "// Total number of players\n",
    "// (Possibile candidata broadcast)\n",
    "println(s\"Total number of players: ${rddPlayerSummariesCached.count()}\")\n",
    "\n",
    "// Total number of friends connections\n",
    "println(s\"Total number of friends connections: ${rddFriendsCached.count()}\")\n",
    "\n",
    "// Total number of game informations\n",
    "// (Possibile candidata broadcast, solo se le informazioni sono molto leggere)\n",
    "println(s\"Total number of game informations: ${rddGamesInfoCached.count()}\")\n",
    "\n",
    "// Total number of achievements\n",
    "println(s\"Total number of achievements: ${rddAchievementsCached.count()}\")\n"
   ]
  },
  {
   "cell_type": "code",
   "execution_count": 143,
   "id": "ad2cbbb9",
   "metadata": {},
   "outputs": [
    {
     "data": {
      "application/vnd.jupyter.widget-view+json": {
       "model_id": "2f2a5b619abe44df826d07511f42d3e9",
       "version_major": 2,
       "version_minor": 0
      },
      "text/plain": [
       "VBox()"
      ]
     },
     "metadata": {},
     "output_type": "display_data"
    },
    {
     "data": {
      "application/vnd.jupyter.widget-view+json": {
       "model_id": "",
       "version_major": 2,
       "version_minor": 0
      },
      "text/plain": [
       "FloatProgress(value=0.0, bar_style='info', description='Progress:', layout=Layout(height='25px', width='50%'),…"
      ]
     },
     "metadata": {},
     "output_type": "display_data"
    },
    {
     "name": "stdout",
     "output_type": "stream",
     "text": [
      "totalPlaytime: org.apache.spark.rdd.RDD[(Long, Int)] = ShuffledRDD[564] at reduceByKey at <console>:131\n",
      "AppsKeyWithTitle: org.apache.spark.rdd.RDD[(Long, String)] = MapPartitionsRDD[565] at mapValues at <console>:129\n",
      "totalPlaytimeWithNames: org.apache.spark.rdd.RDD[(Long, (Int, String))] = MapPartitionsRDD[576] at sortBy at <console>:131\n",
      "mostPlayedGame: (Long, (Int, String)) = (246700,(448007200,Strike Vector))\n",
      "\n",
      "\n",
      "The most played game is Strike Vector with 448007200 minutes of total playtime.\n"
     ]
    }
   ],
   "source": [
    "// Aggrega il tempo di gioco totale per ogni gioco e stampa il primo (NON OTTIMIZZATA)\n",
    "\n",
    "val totalPlaytime = rddGamesCached.\n",
    "    map{ case ((steamid, appid), gameValues) => (appid, gameValues.playtimeForever) }.\n",
    "    reduceByKey(_ + _)\n",
    "\n",
    "val AppsKeyWithTitle = rddAppsCached.\n",
    "    mapValues(_.title)\n",
    "\n",
    "val totalPlaytimeWithNames = totalPlaytime.\n",
    "    join(AppsKeyWithTitle).\n",
    "    sortBy(_._2._1, ascending = false)\n",
    "\n",
    "val mostPlayedGame = totalPlaytimeWithNames.\n",
    "    sortBy(_._2._1, ascending = false).\n",
    "    first()\n",
    "\n",
    "println(s\"\\n\\nThe most played game is ${mostPlayedGame._2._2} with ${mostPlayedGame._2._1} minutes of total playtime.\")"
   ]
  },
  {
   "cell_type": "code",
   "execution_count": 151,
   "id": "0fa9abc1",
   "metadata": {},
   "outputs": [
    {
     "data": {
      "application/vnd.jupyter.widget-view+json": {
       "model_id": "73d912ccae9b488bbb646b47144e5de6",
       "version_major": 2,
       "version_minor": 0
      },
      "text/plain": [
       "VBox()"
      ]
     },
     "metadata": {},
     "output_type": "display_data"
    },
    {
     "data": {
      "application/vnd.jupyter.widget-view+json": {
       "model_id": "",
       "version_major": 2,
       "version_minor": 0
      },
      "text/plain": [
       "FloatProgress(value=0.0, bar_style='info', description='Progress:', layout=Layout(height='25px', width='50%'),…"
      ]
     },
     "metadata": {},
     "output_type": "display_data"
    },
    {
     "name": "stdout",
     "output_type": "stream",
     "text": [
      "totalPlaytime: org.apache.spark.rdd.RDD[((Long, Long), Int)] = ShuffledRDD[601] at reduceByKey at <console>:132\n",
      "AppsKeyWithTitle: org.apache.spark.rdd.RDD[(Long, String)] = MapPartitionsRDD[602] at mapValues at <console>:129\n",
      "AppsKeyWithTitleMap: scala.collection.immutable.Map[Long,String] = Map(42890 -> Sword of the Stars: Complete Collection, 221020 -> Towns, 428140 -> TowerClimb - Extended Original Soundtrack, 402840 -> Crusaders of the Lost Idols, 204308 -> Awesomenauts - Hotrod Derpl Skin, 42900 -> Hearts of Iron III: Semper Fi, 446870 -> Glitchrunners, 421166 -> MX vs. ATV Supercross Encore - 2 Stroke 4 Pack, 90410 -> Blue Toad Murder Files?: The Mysteries of Little Riddle Demo, 259620 -> 3079 -- Block Action RPG, 325330 -> Muvee Reveal 11, 349680 -> Supercharged Robot VULKAISER, 318070 -> Happy Wars - Happy Tickets - Value Pack A, 202200 -> Galactic Civilizations? II: Ultimate Edition, 344130 -> Cataegis : The White Wind, 202310 -> Ridge Racer? Unbounded, 206104 -> Rocksmith - The Black Keys - Gold on...\n",
      "broadcastedAppsKeyWithTitle: org.apache.spark.broadcast.Broadcast[scala.collection.immutable.Map[Long,String]] = Broadcast(257)\n",
      "totalPlaytimeWithNames: org.apache.spark.rdd.RDD[((Long, String), Int)] = MapPartitionsRDD[603] at map at <console>:130\n",
      "mostPlayedGame: (Long, (Int, String)) = (246700,(460588900,Strike Vector))\n",
      "The most played game is Strike Vector with 460588900 minutes of total playtime.\n"
     ]
    }
   ],
   "source": [
    "// Aggrega il tempo di gioco totale per ogni gioco e stampa il primo (OTTIMIZZATA)\n",
    "\n",
    "// Tempo di gioco totale per ogni utente\n",
    "val totalPlaytime = rddGamesCached.\n",
    "    mapValues(_.playtimeForever).\n",
    "    reduceByKey(_ + _)\n",
    "\n",
    "val AppsKeyWithTitle = rddAppsCached.\n",
    "    mapValues(_.title)\n",
    "\n",
    "// 1. Convertire l'RDD a una struttura dati (Map)\n",
    "val AppsKeyWithTitleMap: Map[Long, String] = AppsKeyWithTitle.\n",
    "    collect().\n",
    "    toMap\n",
    "\n",
    "val broadcastedAppsKeyWithTitle = sc.broadcast(AppsKeyWithTitleMap)\n",
    "\n",
    "// Esegui il mapping del primo RDD per includere il nome del gioco usando la mappa trasmessa\n",
    "val totalPlaytimeWithNames = totalPlaytime.map { case ((steamid,appid), time) =>\n",
    "  val gameName = broadcastedAppsKeyWithTitle.value.getOrElse(appid, \"Unknown\")\n",
    "  ((appid, gameName), time)\n",
    "}\n",
    "\n",
    "val mostPlayedGame = GameMorePlayed.\n",
    "    reduce((a, b) => if (a._2._1 > b._2._1) a else b)\n",
    "\n",
    "println(s\"The most played game is ${mostPlayedGame._2._2} with ${mostPlayedGame._2._1} minutes of total playtime.\")"
   ]
  },
  {
   "cell_type": "code",
   "execution_count": 152,
   "id": "32094908",
   "metadata": {
    "scrolled": true
   },
   "outputs": [
    {
     "data": {
      "application/vnd.jupyter.widget-view+json": {
       "model_id": "a7023a9191d044d08aaa63594b8c811f",
       "version_major": 2,
       "version_minor": 0
      },
      "text/plain": [
       "VBox()"
      ]
     },
     "metadata": {},
     "output_type": "display_data"
    },
    {
     "data": {
      "application/vnd.jupyter.widget-view+json": {
       "model_id": "",
       "version_major": 2,
       "version_minor": 0
      },
      "text/plain": [
       "FloatProgress(value=0.0, bar_style='info', description='Progress:', layout=Layout(height='25px', width='50%'),…"
      ]
     },
     "metadata": {},
     "output_type": "display_data"
    }
   ],
   "source": [
    "// Caching dei dati utilizzati più volte\n",
    "// Estrai solo il loccountrycode da ciascun player e memorizza in cache il risultato\n",
    "val cachedPlayerSummaries = rddPlayerSummariesCached.\n",
    "    mapValues(_.loccountrycode.getOrElse(\"Unknown\")).\n",
    "    cache()\n",
    "\n",
    "// Contiamo il numero di amici per ogni steamid\n",
    "// Ogni coppia di amici viene decomposta in due elementi: uno per ciascun amico\n",
    "val friendCounts = rddFriendsCached.\n",
    "    flatMap{ case ((steamidA, steamidB), _) => Seq((steamidA, 1), (steamidB, 1)) }.\n",
    "    reduceByKey(_ + _)\n",
    "\n",
    "// Aggiungi il countryCode a ciascun conteggio di amici\n",
    "val friendCountsByCountry = friendCounts.join(cachedPlayerSummaries).\n",
    "    mapValues { case (count, countryCode) => (countryCode, count) }\n",
    "\n",
    "// Calcola la media del numero di amici per countryCode\n",
    "// Utilizzo di aggregateByKey per calcolare sia la somma che il conteggio\n",
    "val sumAndCountByCountry = friendCountsByCountry.\n",
    "    aggregateByKey((0, 0))(\n",
    "        (acc, value) => (acc._1 + value._2, acc._2 + 1),\n",
    "        (acc1, acc2) => (acc1._1 + acc2._1, acc1._2 + acc2._2)\n",
    "    )\n",
    "\n",
    "// Calcolo della media\n",
    "val avgByCountry = sumAndCountByCountry.\n",
    "    mapValues{ case (sum, count) => if (count > 0) sum / count.toDouble else 0.0 }\n",
    "\n",
    "// Stampa la media del numero di amici per ciascun paese\n",
    "avgByCountry.collect().foreach { case (countryCode, avg) => println(s\"Country: $countryCode, Average Friends: $avg\") }\n"
   ]
  },
  {
   "cell_type": "code",
   "execution_count": 153,
   "id": "70fa3e6b",
   "metadata": {},
   "outputs": [
    {
     "data": {
      "application/vnd.jupyter.widget-view+json": {
       "model_id": "957fab9b23054d6e88a983b1a5d2fcbf",
       "version_major": 2,
       "version_minor": 0
      },
      "text/plain": [
       "VBox()"
      ]
     },
     "metadata": {},
     "output_type": "display_data"
    },
    {
     "data": {
      "application/vnd.jupyter.widget-view+json": {
       "model_id": "",
       "version_major": 2,
       "version_minor": 0
      },
      "text/plain": [
       "FloatProgress(value=0.0, bar_style='info', description='Progress:', layout=Layout(height='25px', width='50%'),…"
      ]
     },
     "metadata": {},
     "output_type": "display_data"
    },
    {
     "name": "stdout",
     "output_type": "stream",
     "text": [
      "res709: Array[(Long, Double)] = Array((76561197965200157,2.0), (76561197963724621,1.0), (76561197967189641,2.0), (76561197971208901,1.0), (76561197960425989,13.0), (76561197962555949,6.0), (76561197966829085,3.0), (76561197967462501,1.0), (76561197961272625,4.0), (76561197970833813,4.0))\n"
     ]
    }
   ],
   "source": [
    "avgByCountry.take(10)"
   ]
  },
  {
   "cell_type": "code",
   "execution_count": null,
   "id": "4fa5da7e",
   "metadata": {},
   "outputs": [],
   "source": []
  }
 ],
 "metadata": {
  "kernelspec": {
   "display_name": "Spark",
   "language": "scala",
   "name": "sparkkernel"
  },
  "language_info": {
   "codemirror_mode": "text/x-scala",
   "file_extension": ".sc",
   "mimetype": "text/x-scala",
   "name": "scala",
   "pygments_lexer": "scala"
  }
 },
 "nbformat": 4,
 "nbformat_minor": 5
}
